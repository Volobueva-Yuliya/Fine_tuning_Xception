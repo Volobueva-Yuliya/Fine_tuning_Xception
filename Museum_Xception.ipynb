{
  "nbformat": 4,
  "nbformat_minor": 5,
  "metadata": {
    "kernelspec": {
      "display_name": "Python 3",
      "language": "python",
      "name": "python3"
    },
    "language_info": {
      "codemirror_mode": {
        "name": "ipython",
        "version": 3
      },
      "file_extension": ".py",
      "mimetype": "text/x-python",
      "name": "python",
      "nbconvert_exporter": "python",
      "pygments_lexer": "ipython3",
      "version": "3.8.8"
    },
    "colab": {
      "name": "Museum_Xception.ipynb",
      "provenance": [],
      "collapsed_sections": []
    },
    "accelerator": "GPU"
  },
  "cells": [
    {
      "cell_type": "code",
      "metadata": {
        "id": "9962cee4"
      },
      "source": [
        "import os\n",
        "import random\n",
        "import glob\n",
        "import cv2\n",
        "import shutil\n",
        "import subprocess\n",
        "\n",
        "import numpy as np\n",
        "import pandas as pd\n",
        "import tensorflow as tf\n",
        "import tensorflow_addons as tfa \n",
        "import matplotlib.pyplot as plt\n",
        "\n",
        "from tensorflow import keras\n",
        "from PIL import ImageFile\n",
        "\n",
        "from keras.preprocessing.image import ImageDataGenerator, load_img\n",
        "from tensorflow.keras.utils import to_categorical\n",
        "from sklearn.model_selection import train_test_split\n",
        "\n",
        "from tensorflow.keras.applications import Xception \n",
        "from tensorflow.keras.preprocessing import image \n",
        "from tensorflow.keras.models import Model \n",
        "from tensorflow.keras.layers import Dense, GlobalAveragePooling2D, Dropout, BatchNormalization \n",
        "from tensorflow.keras.optimizers import SGD\n",
        "from keras.preprocessing.image import img_to_array"
      ],
      "id": "9962cee4",
      "execution_count": null,
      "outputs": []
    },
    {
      "cell_type": "code",
      "metadata": {
        "colab": {
          "base_uri": "https://localhost:8080/"
        },
        "id": "VDvqNZX1HsGP",
        "outputId": "b43f1e02-26d7-48cf-bbb4-7fcbe50189bf"
      },
      "source": [
        "from google.colab import drive\n",
        "drive.mount('/content/drive')"
      ],
      "id": "VDvqNZX1HsGP",
      "execution_count": null,
      "outputs": [
        {
          "output_type": "stream",
          "text": [
            "Mounted at /content/drive\n"
          ],
          "name": "stdout"
        }
      ]
    },
    {
      "cell_type": "markdown",
      "metadata": {
        "id": "HY73qXJ1Raa_"
      },
      "source": [
        "#Предварительная обработка набора данных"
      ],
      "id": "HY73qXJ1Raa_"
    },
    {
      "cell_type": "code",
      "metadata": {
        "id": "c67BnYGtgqrj"
      },
      "source": [
        "# Считываем данные\n",
        "\n",
        "df = pd.read_csv('./train.csv')"
      ],
      "id": "c67BnYGtgqrj",
      "execution_count": null,
      "outputs": []
    },
    {
      "cell_type": "code",
      "metadata": {
        "colab": {
          "base_uri": "https://localhost:8080/",
          "height": 424
        },
        "id": "LghSU4oN1Mm-",
        "outputId": "77b1a402-cfa6-45e5-8a57-9e6f77044837"
      },
      "source": [
        "df"
      ],
      "id": "LghSU4oN1Mm-",
      "execution_count": null,
      "outputs": [
        {
          "output_type": "execute_result",
          "data": {
            "text/html": [
              "<div>\n",
              "<style scoped>\n",
              "    .dataframe tbody tr th:only-of-type {\n",
              "        vertical-align: middle;\n",
              "    }\n",
              "\n",
              "    .dataframe tbody tr th {\n",
              "        vertical-align: top;\n",
              "    }\n",
              "\n",
              "    .dataframe thead th {\n",
              "        text-align: right;\n",
              "    }\n",
              "</style>\n",
              "<table border=\"1\" class=\"dataframe\">\n",
              "  <thead>\n",
              "    <tr style=\"text-align: right;\">\n",
              "      <th></th>\n",
              "      <th>guid</th>\n",
              "      <th>description</th>\n",
              "      <th>typology</th>\n",
              "    </tr>\n",
              "  </thead>\n",
              "  <tbody>\n",
              "    <tr>\n",
              "      <th>0</th>\n",
              "      <td>c84c547b-c5c5-45cf-9199-736df1301124</td>\n",
              "      <td>Монета. Екатерина II. Две копейки. 1789 г.</td>\n",
              "      <td>предметы нумизматики</td>\n",
              "    </tr>\n",
              "    <tr>\n",
              "      <th>1</th>\n",
              "      <td>af6fb03f-3d31-484f-ba9d-51e7b4ef55b9</td>\n",
              "      <td>Владельческий конволют. Собрание сочинений. / ...</td>\n",
              "      <td>редкие книги</td>\n",
              "    </tr>\n",
              "    <tr>\n",
              "      <th>2</th>\n",
              "      <td>5ad52d30-8239-4b41-bd56-da99ab5a555b</td>\n",
              "      <td>Медаль ВДНХ \"За успехи в народном хозяйстве СС...</td>\n",
              "      <td>предметы нумизматики</td>\n",
              "    </tr>\n",
              "    <tr>\n",
              "      <th>3</th>\n",
              "      <td>6ce2ecbe-80d2-45d1-8a4c-7599950a7792</td>\n",
              "      <td>Монета. Михаил Федорович. Копейка</td>\n",
              "      <td>предметы нумизматики</td>\n",
              "    </tr>\n",
              "    <tr>\n",
              "      <th>4</th>\n",
              "      <td>73a48c2d-12c3-40da-b071-f9abd5bed64b</td>\n",
              "      <td>Временное удостоверение №12849 Охотина Р.А. о ...</td>\n",
              "      <td>документы</td>\n",
              "    </tr>\n",
              "    <tr>\n",
              "      <th>...</th>\n",
              "      <td>...</td>\n",
              "      <td>...</td>\n",
              "      <td>...</td>\n",
              "    </tr>\n",
              "    <tr>\n",
              "      <th>4730</th>\n",
              "      <td>5b9b91be-8d26-4d35-a518-7dda124d3dfb</td>\n",
              "      <td>Открытка В. Маяковский. «Владимир Ильич Ленин»...</td>\n",
              "      <td>предметы печатной продукции</td>\n",
              "    </tr>\n",
              "    <tr>\n",
              "      <th>4731</th>\n",
              "      <td>0f6b203b-511d-4a63-97ab-f5d9b38e595e</td>\n",
              "      <td>Знак \"Отличник Всесоюзного социалистического с...</td>\n",
              "      <td>предметы нумизматики</td>\n",
              "    </tr>\n",
              "    <tr>\n",
              "      <th>4732</th>\n",
              "      <td>2d09c446-86be-4bad-83ca-d08b07285312</td>\n",
              "      <td>Монета. 15 копеек</td>\n",
              "      <td>предметы нумизматики</td>\n",
              "    </tr>\n",
              "    <tr>\n",
              "      <th>4733</th>\n",
              "      <td>371edf1f-900b-4821-89c2-4e15ac40a12d</td>\n",
              "      <td>Журнал. \"Огонёк\".- 1928.- №14.</td>\n",
              "      <td>предметы печатной продукции</td>\n",
              "    </tr>\n",
              "    <tr>\n",
              "      <th>4734</th>\n",
              "      <td>7c6163b7-dd7f-4c9d-8e83-88d709591c6a</td>\n",
              "      <td>Клятва, данная краснофлотцами Обуховским и Пус...</td>\n",
              "      <td>предметы печатной продукции</td>\n",
              "    </tr>\n",
              "  </tbody>\n",
              "</table>\n",
              "<p>4735 rows × 3 columns</p>\n",
              "</div>"
            ],
            "text/plain": [
              "                                      guid  ...                     typology\n",
              "0     c84c547b-c5c5-45cf-9199-736df1301124  ...         предметы нумизматики\n",
              "1     af6fb03f-3d31-484f-ba9d-51e7b4ef55b9  ...                 редкие книги\n",
              "2     5ad52d30-8239-4b41-bd56-da99ab5a555b  ...         предметы нумизматики\n",
              "3     6ce2ecbe-80d2-45d1-8a4c-7599950a7792  ...         предметы нумизматики\n",
              "4     73a48c2d-12c3-40da-b071-f9abd5bed64b  ...                    документы\n",
              "...                                    ...  ...                          ...\n",
              "4730  5b9b91be-8d26-4d35-a518-7dda124d3dfb  ...  предметы печатной продукции\n",
              "4731  0f6b203b-511d-4a63-97ab-f5d9b38e595e  ...         предметы нумизматики\n",
              "4732  2d09c446-86be-4bad-83ca-d08b07285312  ...         предметы нумизматики\n",
              "4733  371edf1f-900b-4821-89c2-4e15ac40a12d  ...  предметы печатной продукции\n",
              "4734  7c6163b7-dd7f-4c9d-8e83-88d709591c6a  ...  предметы печатной продукции\n",
              "\n",
              "[4735 rows x 3 columns]"
            ]
          },
          "metadata": {
            "tags": []
          },
          "execution_count": 10
        }
      ]
    },
    {
      "cell_type": "code",
      "metadata": {
        "id": "rS06-VHNZLnw"
      },
      "source": [
        "# Пропуск битых/усеченных изображений + снимаем ограничения по размерам изображений\n",
        "\n",
        "ImageFile.LOAD_TRUNCATED_IMAGES = True\n",
        "Image.MAX_IMAGE_PIXELS = 1000000000"
      ],
      "id": "rS06-VHNZLnw",
      "execution_count": null,
      "outputs": []
    },
    {
      "cell_type": "code",
      "metadata": {
        "id": "d2OiH0meZMiV"
      },
      "source": [
        "# Распределение изображений по каталогам\n",
        "\n",
        "foto_shape = []\n",
        "foto_enpology = []\n",
        "foto_name = []\n",
        "foto_error = []\n",
        "\n",
        "for i in range(0,15):\n",
        "  for foto in os.listdir(f'./typology/{i}'):\n",
        "    img=cv2.imread(f'./typology/{i}/{foto}')\n",
        "    print(i, foto)\n",
        "    foto_name.append(f'{foto}')\n",
        "    foto_enpology.append(i)\n",
        "    try:\n",
        "      foto_shape.append(img.shape[0])\n",
        "    except Exception:\n",
        "      print(foto, foto, foto)\n",
        "      foto_error.append([i, f'{foto}'])"
      ],
      "id": "d2OiH0meZMiV",
      "execution_count": null,
      "outputs": []
    },
    {
      "cell_type": "code",
      "metadata": {
        "id": "YUjh7PUjfLTp"
      },
      "source": [
        "# В первых 3 каталогах есть битые изображения, которые пропустили на предыдущем шаге\n",
        "\n",
        "for i in range(0, 2):\n",
        "  for foto in os.listdir(f'./typology/{i}'):\n",
        "    img=cv2.imread(f'./typology/{i}/{foto}')\n",
        "    if foto == foto_error[1]:\n",
        "      os.remove(img)\n",
        "      print(f'delete{img}')"
      ],
      "id": "YUjh7PUjfLTp",
      "execution_count": null,
      "outputs": []
    },
    {
      "cell_type": "code",
      "metadata": {
        "id": "GmCVw_OuZSMi",
        "colab": {
          "base_uri": "https://localhost:8080/"
        },
        "outputId": "e2c2da7d-d70d-4b5b-88ee-65b685e345bd"
      },
      "source": [
        "# Аугментация + преобразование изображения в массив\n",
        "\n",
        "train_datagen = ImageDataGenerator(\n",
        "    rotation_range=15,\n",
        "    rescale=1./255,\n",
        "    shear_range=0.1,\n",
        "    zoom_range=0.2,\n",
        "    horizontal_flip=True,\n",
        "    width_shift_range=0.1,\n",
        "    height_shift_range=0.1,\n",
        "    validation_split=0.2\n",
        ")\n",
        "\n",
        "train_generator = train_datagen.flow_from_directory(\n",
        "    './typology',\n",
        "    target_size=(299, 299),\n",
        "    color_mode=\"rgb\",\n",
        "    class_mode=\"categorical\",\n",
        "    batch_size=64,\n",
        "  )"
      ],
      "id": "GmCVw_OuZSMi",
      "execution_count": null,
      "outputs": [
        {
          "output_type": "stream",
          "text": [
            "Found 7299 images belonging to 15 classes.\n"
          ],
          "name": "stdout"
        }
      ]
    },
    {
      "cell_type": "markdown",
      "metadata": {
        "id": "0ME6XpccYUSZ"
      },
      "source": [
        "#Готовим модель Xception"
      ],
      "id": "0ME6XpccYUSZ"
    },
    {
      "cell_type": "code",
      "metadata": {
        "id": "f49d4867"
      },
      "source": [
        "# Задаем переменные для будущей модели\n",
        "\n",
        "FAST_RUN = False\n",
        "IMAGE_WIDTH=299\n",
        "IMAGE_HEIGHT=299\n",
        "IMAGE_SIZE=(IMAGE_WIDTH, IMAGE_HEIGHT)\n",
        "IMAGE_CHANNELS=3"
      ],
      "id": "f49d4867",
      "execution_count": null,
      "outputs": []
    },
    {
      "cell_type": "code",
      "metadata": {
        "colab": {
          "base_uri": "https://localhost:8080/"
        },
        "id": "67ClLZjIlKX2",
        "outputId": "dfc421bd-8361-44bf-9dba-4f61927b6a27"
      },
      "source": [
        "# Создаем экземпляр архитектуры Xception.\n",
        "\n",
        "tf.keras.applications.Xception(\n",
        "    include_top=True,\n",
        "    weights=\"imagenet\",\n",
        "    input_tensor=None,\n",
        "    input_shape=None,\n",
        "    pooling=None,\n",
        "    classes=1000,\n",
        "    classifier_activation=\"softmax\",\n",
        ")"
      ],
      "id": "67ClLZjIlKX2",
      "execution_count": null,
      "outputs": [
        {
          "output_type": "stream",
          "text": [
            "Downloading data from https://storage.googleapis.com/tensorflow/keras-applications/xception/xception_weights_tf_dim_ordering_tf_kernels.h5\n",
            "91889664/91884032 [==============================] - 2s 0us/step\n"
          ],
          "name": "stdout"
        },
        {
          "output_type": "execute_result",
          "data": {
            "text/plain": [
              "<tensorflow.python.keras.engine.functional.Functional at 0x7f1db5c7bb90>"
            ]
          },
          "metadata": {
            "tags": []
          },
          "execution_count": 7
        }
      ]
    },
    {
      "cell_type": "code",
      "metadata": {
        "id": "FiFHW_caOdnD"
      },
      "source": [
        "model_checkpoint_callback = tf.keras.callbacks.ModelCheckpoint(\n",
        "    filepath='/content/drive/MyDrive/museum/Xception/',\n",
        "    save_weights_only=True,\n",
        "    monitor='f1_score',\n",
        "    mode='max',\n",
        "    save_best_only=True)\n",
        "\n",
        "model_checkpoint_callback_head = tf.keras.callbacks.ModelCheckpoint(\n",
        "    filepath='/content/drive/MyDrive/museum/Xception/',\n",
        "    save_weights_only=True,\n",
        "    monitor='f1_score',\n",
        "    mode='max',\n",
        "    save_best_only=True)\n"
      ],
      "id": "FiFHW_caOdnD",
      "execution_count": null,
      "outputs": []
    },
    {
      "cell_type": "code",
      "metadata": {
        "colab": {
          "base_uri": "https://localhost:8080/"
        },
        "id": "f9Un4Jjd1MhG",
        "outputId": "3f76e098-9242-4da3-e487-b754e37ac95d"
      },
      "source": [
        "pip install tensorflow-addons"
      ],
      "id": "f9Un4Jjd1MhG",
      "execution_count": null,
      "outputs": [
        {
          "output_type": "stream",
          "text": [
            "Collecting tensorflow-addons\n",
            "  Downloading tensorflow_addons-0.13.0-cp37-cp37m-manylinux2010_x86_64.whl (679 kB)\n",
            "\u001b[?25l\r\u001b[K     |▌                               | 10 kB 25.5 MB/s eta 0:00:01\r\u001b[K     |█                               | 20 kB 30.2 MB/s eta 0:00:01\r\u001b[K     |█▌                              | 30 kB 34.3 MB/s eta 0:00:01\r\u001b[K     |██                              | 40 kB 26.8 MB/s eta 0:00:01\r\u001b[K     |██▍                             | 51 kB 18.4 MB/s eta 0:00:01\r\u001b[K     |███                             | 61 kB 20.0 MB/s eta 0:00:01\r\u001b[K     |███▍                            | 71 kB 13.6 MB/s eta 0:00:01\r\u001b[K     |███▉                            | 81 kB 15.0 MB/s eta 0:00:01\r\u001b[K     |████▍                           | 92 kB 14.2 MB/s eta 0:00:01\r\u001b[K     |████▉                           | 102 kB 15.3 MB/s eta 0:00:01\r\u001b[K     |█████▎                          | 112 kB 15.3 MB/s eta 0:00:01\r\u001b[K     |█████▉                          | 122 kB 15.3 MB/s eta 0:00:01\r\u001b[K     |██████▎                         | 133 kB 15.3 MB/s eta 0:00:01\r\u001b[K     |██████▊                         | 143 kB 15.3 MB/s eta 0:00:01\r\u001b[K     |███████▎                        | 153 kB 15.3 MB/s eta 0:00:01\r\u001b[K     |███████▊                        | 163 kB 15.3 MB/s eta 0:00:01\r\u001b[K     |████████▏                       | 174 kB 15.3 MB/s eta 0:00:01\r\u001b[K     |████████▊                       | 184 kB 15.3 MB/s eta 0:00:01\r\u001b[K     |█████████▏                      | 194 kB 15.3 MB/s eta 0:00:01\r\u001b[K     |█████████▋                      | 204 kB 15.3 MB/s eta 0:00:01\r\u001b[K     |██████████▏                     | 215 kB 15.3 MB/s eta 0:00:01\r\u001b[K     |██████████▋                     | 225 kB 15.3 MB/s eta 0:00:01\r\u001b[K     |███████████                     | 235 kB 15.3 MB/s eta 0:00:01\r\u001b[K     |███████████▋                    | 245 kB 15.3 MB/s eta 0:00:01\r\u001b[K     |████████████                    | 256 kB 15.3 MB/s eta 0:00:01\r\u001b[K     |████████████▌                   | 266 kB 15.3 MB/s eta 0:00:01\r\u001b[K     |█████████████                   | 276 kB 15.3 MB/s eta 0:00:01\r\u001b[K     |█████████████▌                  | 286 kB 15.3 MB/s eta 0:00:01\r\u001b[K     |██████████████                  | 296 kB 15.3 MB/s eta 0:00:01\r\u001b[K     |██████████████▌                 | 307 kB 15.3 MB/s eta 0:00:01\r\u001b[K     |███████████████                 | 317 kB 15.3 MB/s eta 0:00:01\r\u001b[K     |███████████████▍                | 327 kB 15.3 MB/s eta 0:00:01\r\u001b[K     |████████████████                | 337 kB 15.3 MB/s eta 0:00:01\r\u001b[K     |████████████████▍               | 348 kB 15.3 MB/s eta 0:00:01\r\u001b[K     |████████████████▉               | 358 kB 15.3 MB/s eta 0:00:01\r\u001b[K     |█████████████████▍              | 368 kB 15.3 MB/s eta 0:00:01\r\u001b[K     |█████████████████▉              | 378 kB 15.3 MB/s eta 0:00:01\r\u001b[K     |██████████████████▎             | 389 kB 15.3 MB/s eta 0:00:01\r\u001b[K     |██████████████████▉             | 399 kB 15.3 MB/s eta 0:00:01\r\u001b[K     |███████████████████▎            | 409 kB 15.3 MB/s eta 0:00:01\r\u001b[K     |███████████████████▊            | 419 kB 15.3 MB/s eta 0:00:01\r\u001b[K     |████████████████████▎           | 430 kB 15.3 MB/s eta 0:00:01\r\u001b[K     |████████████████████▊           | 440 kB 15.3 MB/s eta 0:00:01\r\u001b[K     |█████████████████████▏          | 450 kB 15.3 MB/s eta 0:00:01\r\u001b[K     |█████████████████████▊          | 460 kB 15.3 MB/s eta 0:00:01\r\u001b[K     |██████████████████████▏         | 471 kB 15.3 MB/s eta 0:00:01\r\u001b[K     |██████████████████████▋         | 481 kB 15.3 MB/s eta 0:00:01\r\u001b[K     |███████████████████████▏        | 491 kB 15.3 MB/s eta 0:00:01\r\u001b[K     |███████████████████████▋        | 501 kB 15.3 MB/s eta 0:00:01\r\u001b[K     |████████████████████████        | 512 kB 15.3 MB/s eta 0:00:01\r\u001b[K     |████████████████████████▋       | 522 kB 15.3 MB/s eta 0:00:01\r\u001b[K     |█████████████████████████       | 532 kB 15.3 MB/s eta 0:00:01\r\u001b[K     |█████████████████████████▌      | 542 kB 15.3 MB/s eta 0:00:01\r\u001b[K     |██████████████████████████      | 552 kB 15.3 MB/s eta 0:00:01\r\u001b[K     |██████████████████████████▌     | 563 kB 15.3 MB/s eta 0:00:01\r\u001b[K     |███████████████████████████     | 573 kB 15.3 MB/s eta 0:00:01\r\u001b[K     |███████████████████████████▌    | 583 kB 15.3 MB/s eta 0:00:01\r\u001b[K     |████████████████████████████    | 593 kB 15.3 MB/s eta 0:00:01\r\u001b[K     |████████████████████████████▍   | 604 kB 15.3 MB/s eta 0:00:01\r\u001b[K     |█████████████████████████████   | 614 kB 15.3 MB/s eta 0:00:01\r\u001b[K     |█████████████████████████████▍  | 624 kB 15.3 MB/s eta 0:00:01\r\u001b[K     |█████████████████████████████▉  | 634 kB 15.3 MB/s eta 0:00:01\r\u001b[K     |██████████████████████████████▍ | 645 kB 15.3 MB/s eta 0:00:01\r\u001b[K     |██████████████████████████████▉ | 655 kB 15.3 MB/s eta 0:00:01\r\u001b[K     |███████████████████████████████▎| 665 kB 15.3 MB/s eta 0:00:01\r\u001b[K     |███████████████████████████████▉| 675 kB 15.3 MB/s eta 0:00:01\r\u001b[K     |████████████████████████████████| 679 kB 15.3 MB/s \n",
            "\u001b[?25hRequirement already satisfied: typeguard>=2.7 in /usr/local/lib/python3.7/dist-packages (from tensorflow-addons) (2.7.1)\n",
            "Installing collected packages: tensorflow-addons\n",
            "Successfully installed tensorflow-addons-0.13.0\n"
          ],
          "name": "stdout"
        }
      ]
    },
    {
      "cell_type": "code",
      "metadata": {
        "id": "jQBHh16-rmFk"
      },
      "source": [
        "f1 = tfa.metrics.F1Score(num_classes=15,  average=\"macro\")"
      ],
      "id": "jQBHh16-rmFk",
      "execution_count": null,
      "outputs": []
    },
    {
      "cell_type": "code",
      "metadata": {
        "id": "tdzrOihIuUy4",
        "colab": {
          "base_uri": "https://localhost:8080/"
        },
        "outputId": "e4fc6dde-c699-4941-ad45-5d6399d2f1b2"
      },
      "source": [
        "base_model = Xception(weights='imagenet', include_top=False)\n",
        "\n",
        "x = base_model.output \n",
        "x = GlobalAveragePooling2D()(x) \n",
        "x = BatchNormalization()(x)\n",
        "x = Dense(500, activation='tanh')(x) \n",
        "x = Dropout(0.2)(x) \n",
        "# x = Dense(250, activation='tanh')(x) \n",
        "# x = Dropout(0.2)(x) \n",
        "# x = Dense(128, activation='tanh')(x) \n",
        "# x = Dropout(0.2)(x) \n",
        "# x = Dropout(0.1)(x) \n",
        "predictions = Dense(15, activation='softmax')(x)\n",
        "\n",
        "opt = keras.optimizers.Adam(learning_rate=0.0001)\n",
        "model = Model(inputs=base_model.input, outputs=predictions)\n",
        "\n",
        "for layer in base_model.layers:\n",
        "    layer.trainable = False\n",
        "\n",
        "#f1=tfa.metrics.F1Score(num_classes=15,  threshold=0.5)\n",
        "\n",
        "model.compile(optimizer=opt, \n",
        "              loss='categorical_crossentropy', \n",
        "              metrics=[tfa.metrics.F1Score(num_classes=15, threshold=0.5)])  \n",
        "\n",
        "model.fit(train_generator, epochs=5)#, callbacks=[model_checkpoint_callback_head])\n",
        "\n",
        "for layer in model.layers[:30]:\n",
        "   layer.trainable = False\n",
        "for layer in model.layers[30:]:\n",
        "   layer.trainable = True\n",
        "\n",
        "\n",
        "model.compile(optimizer=opt, \n",
        "              loss='categorical_crossentropy', \n",
        "              metrics=[tfa.metrics.F1Score(num_classes=15,  average=\"macro\")])\n",
        "\n",
        "model.fit(train_generator, epochs=20) #, callbacks=[model_checkpoint_callback])\n",
        "\n",
        "model.save('./Xception')\n",
        "model.save_weights('./my_model_weights.h5')"
      ],
      "id": "tdzrOihIuUy4",
      "execution_count": null,
      "outputs": [
        {
          "output_type": "stream",
          "text": [
            "Epoch 1/5\n",
            "115/115 [==============================] - 959s 8s/step - loss: 1.8139 - f1_score: 0.3645\n",
            "Epoch 2/5\n"
          ],
          "name": "stdout"
        },
        {
          "output_type": "stream",
          "text": [
            "/usr/local/lib/python3.7/dist-packages/tensorflow/python/keras/metrics.py:257: UserWarning: Metric F1Score implements a `reset_states()` method; rename it to `reset_state()` (without the final \"s\"). The name `reset_states()` has been deprecated to improve API consistency.\n",
            "  'consistency.' % (self.__class__.__name__,))\n"
          ],
          "name": "stderr"
        },
        {
          "output_type": "stream",
          "text": [
            "115/115 [==============================] - 339s 3s/step - loss: 1.2881 - f1_score: 0.5533\n",
            "Epoch 3/5\n",
            "115/115 [==============================] - 342s 3s/step - loss: 1.1535 - f1_score: 0.5980\n",
            "Epoch 4/5\n",
            "115/115 [==============================] - 342s 3s/step - loss: 1.0668 - f1_score: 0.6305\n",
            "Epoch 5/5\n",
            "115/115 [==============================] - 339s 3s/step - loss: 0.9951 - f1_score: 0.6487\n",
            "Epoch 1/20\n",
            "115/115 [==============================] - 351s 3s/step - loss: 1.1914 - f1_score: 0.6305\n",
            "Epoch 2/20\n",
            "115/115 [==============================] - 352s 3s/step - loss: 0.5968 - f1_score: 0.8110\n",
            "Epoch 3/20\n",
            "115/115 [==============================] - 362s 3s/step - loss: 0.3679 - f1_score: 0.8823\n",
            "Epoch 4/20\n",
            "115/115 [==============================] - 354s 3s/step - loss: 0.2338 - f1_score: 0.9299\n",
            "Epoch 5/20\n",
            "115/115 [==============================] - 352s 3s/step - loss: 0.1938 - f1_score: 0.9400\n",
            "Epoch 6/20\n",
            "115/115 [==============================] - 349s 3s/step - loss: 0.1379 - f1_score: 0.9619\n",
            "Epoch 7/20\n",
            "115/115 [==============================] - 360s 3s/step - loss: 0.1109 - f1_score: 0.9713\n",
            "Epoch 8/20\n",
            "115/115 [==============================] - 368s 3s/step - loss: 0.1270 - f1_score: 0.9631\n",
            "Epoch 9/20\n",
            "115/115 [==============================] - 366s 3s/step - loss: 0.0794 - f1_score: 0.9779\n",
            "Epoch 10/20\n",
            "115/115 [==============================] - 364s 3s/step - loss: 0.0805 - f1_score: 0.9778\n",
            "Epoch 11/20\n",
            "115/115 [==============================] - 367s 3s/step - loss: 0.0801 - f1_score: 0.9782\n",
            "Epoch 12/20\n",
            "115/115 [==============================] - 361s 3s/step - loss: 0.0410 - f1_score: 0.9899\n",
            "Epoch 13/20\n",
            "115/115 [==============================] - 349s 3s/step - loss: 0.0540 - f1_score: 0.9879\n",
            "Epoch 14/20\n",
            "115/115 [==============================] - 350s 3s/step - loss: 0.0325 - f1_score: 0.9923\n",
            "Epoch 15/20\n",
            "115/115 [==============================] - 351s 3s/step - loss: 0.0424 - f1_score: 0.9907\n",
            "Epoch 16/20\n",
            "115/115 [==============================] - 354s 3s/step - loss: 0.0285 - f1_score: 0.9933\n",
            "Epoch 17/20\n",
            "115/115 [==============================] - 355s 3s/step - loss: 0.0235 - f1_score: 0.9943\n",
            "Epoch 18/20\n",
            "115/115 [==============================] - 351s 3s/step - loss: 0.0265 - f1_score: 0.9925\n",
            "Epoch 19/20\n",
            "115/115 [==============================] - 350s 3s/step - loss: 0.0251 - f1_score: 0.9943\n",
            "Epoch 20/20\n",
            "115/115 [==============================] - 354s 3s/step - loss: 0.0461 - f1_score: 0.9870\n"
          ],
          "name": "stdout"
        },
        {
          "output_type": "stream",
          "text": [
            "/usr/local/lib/python3.7/dist-packages/tensorflow/python/keras/utils/generic_utils.py:497: CustomMaskWarning: Custom mask layers require a config and must override get_config. When loading, the custom mask layer must be passed to the custom_objects argument.\n",
            "  category=CustomMaskWarning)\n"
          ],
          "name": "stderr"
        },
        {
          "output_type": "stream",
          "text": [
            "INFO:tensorflow:Assets written to: /content/drive/MyDrive/museum/Xception/assets\n"
          ],
          "name": "stdout"
        }
      ]
    },
    {
      "cell_type": "code",
      "metadata": {
        "id": "49Vp51OuEkKt",
        "colab": {
          "base_uri": "https://localhost:8080/"
        },
        "outputId": "22600f7c-a506-4036-d851-8d7441587f98"
      },
      "source": [
        "load_model = tf.keras.models.load_model\n",
        "model = load_model('./Xception/', custom_objects={'f1_score':f1})\n",
        "model"
      ],
      "id": "49Vp51OuEkKt",
      "execution_count": null,
      "outputs": [
        {
          "output_type": "execute_result",
          "data": {
            "text/plain": [
              "<tensorflow.python.keras.engine.functional.Functional at 0x7fd32c0cb290>"
            ]
          },
          "metadata": {
            "tags": []
          },
          "execution_count": 8
        }
      ]
    },
    {
      "cell_type": "code",
      "metadata": {
        "id": "eSDbo1DFqRMP"
      },
      "source": [
        "# history = model.fit(train_generator, \n",
        "#                     epochs=50, )\n",
        "#                     #callbacks=[model_checkpoint_callback])\n",
        "\n",
        "# model.save('/content/drive/MyDrive/museum/Xception')\n",
        "# model.save_weights('/content/drive/MyDrive/museum/Xception/my_model_weights.h5')"
      ],
      "id": "eSDbo1DFqRMP",
      "execution_count": null,
      "outputs": []
    },
    {
      "cell_type": "markdown",
      "metadata": {
        "id": "INGkpPuMa293"
      },
      "source": [
        "# Получаем и анализируем результат классификации"
      ],
      "id": "INGkpPuMa293"
    },
    {
      "cell_type": "code",
      "metadata": {
        "id": "galacSa0JOxZ"
      },
      "source": [
        "def img_preproccessing(photo_path):\n",
        "    img = Image.open(photo_path)\n",
        "    max_size = max(img.size)\n",
        "    new_size = (max_size, max_size)\n",
        "    new_im = Image.new(\"RGB\", new_size)\n",
        "    new_im.paste(img, (round((new_size[0]-img.size[0])/2),round((new_size[1]-img.size[1])/2)))\n",
        "    new_im = new_im.resize((64,64))\n",
        "    _img_arr = img_to_array(new_im)  # Numpy array with shape (299, 299, 3)\n",
        "    _img_arr = _img_arr.reshape((1,) + _img_arr.shape)  # Numpy array with shape (1, 299, 299, 3)\n",
        "    _img_arr /= 255 # Rescale by 1/255\n",
        "    return _img_arr"
      ],
      "id": "galacSa0JOxZ",
      "execution_count": null,
      "outputs": []
    },
    {
      "cell_type": "code",
      "metadata": {
        "id": "TeAOD-N20S-h"
      },
      "source": [
        "# Формирование словаря с присвоенными класcами и наименование класса\n",
        "\n",
        "d = {\n",
        "    0: 'графика',\n",
        "    1: 'документы',\n",
        "    2: 'живопись',\n",
        "    3: 'оружие',\n",
        "    4: 'предметы археологии',\n",
        "    5: 'предметы естественнонаучной коллекции',\n",
        "    6: 'предметы минералогической коллекции',\n",
        "    7: 'предметы нумизматики',\n",
        "    8: 'предметы печатной продукции',\n",
        "    9: 'предметы прикладного искусства, быта и этнографии',\n",
        "    10: 'предметы техники',\n",
        "    11: 'прочие',\n",
        "    12: 'редкие книги',\n",
        "    13: 'скульптура',\n",
        "    14: 'фотографии и негативы' ,   \n",
        "}\n",
        "\n",
        "topology = d"
      ],
      "id": "TeAOD-N20S-h",
      "execution_count": null,
      "outputs": []
    },
    {
      "cell_type": "code",
      "metadata": {
        "colab": {
          "base_uri": "https://localhost:8080/"
        },
        "id": "cLu7DVSm4W6x",
        "outputId": "0bb9dad8-9064-424b-fa0f-31038c2e5939"
      },
      "source": [
        "preds = model.predict(img_preproccessing('./f5961467-b2d9-44cc-b618-8d27700ae9fe.jpg')) \n",
        "preds"
      ],
      "id": "cLu7DVSm4W6x",
      "execution_count": null,
      "outputs": [
        {
          "output_type": "execute_result",
          "data": {
            "text/plain": [
              "array([[5.42845111e-03, 5.44438325e-02, 1.32822315e-05, 4.71755222e-04,\n",
              "        8.18835665e-03, 1.27841653e-02, 1.53572690e-02, 2.17182236e-03,\n",
              "        8.38627515e-04, 8.05182680e-02, 5.20824969e-01, 2.95394450e-01,\n",
              "        1.86645624e-03, 2.24296018e-05, 1.67592231e-03]], dtype=float32)"
            ]
          },
          "metadata": {
            "tags": []
          },
          "execution_count": 11
        }
      ]
    },
    {
      "cell_type": "code",
      "metadata": {
        "id": "Ctq_HtiVz_pB"
      },
      "source": [
        "def decoder(d, preds):\n",
        "  preds = preds.tolist()\n",
        "  return max(list(zip(*preds, d.values())))"
      ],
      "id": "Ctq_HtiVz_pB",
      "execution_count": null,
      "outputs": []
    },
    {
      "cell_type": "code",
      "metadata": {
        "colab": {
          "base_uri": "https://localhost:8080/"
        },
        "id": "SYrNVZT54bzb",
        "outputId": "d0bffc9c-f003-4bb6-860f-8c3357415c09"
      },
      "source": [
        "decoder(d, preds)"
      ],
      "id": "SYrNVZT54bzb",
      "execution_count": null,
      "outputs": [
        {
          "output_type": "execute_result",
          "data": {
            "text/plain": [
              "(0.5208249688148499, 'предметы техники')"
            ]
          },
          "metadata": {
            "tags": []
          },
          "execution_count": 13
        }
      ]
    },
    {
      "cell_type": "code",
      "metadata": {
        "id": "12ed82db",
        "colab": {
          "base_uri": "https://localhost:8080/"
        },
        "outputId": "39eef622-52b7-4bf9-c95e-06692d94719c"
      },
      "source": [
        "model.predict(img_preproccessing('/content/drive/MyDrive/museum/f5961467-b2d9-44cc-b618-8d27700ae9fe.jpg'))"
      ],
      "id": "12ed82db",
      "execution_count": null,
      "outputs": [
        {
          "output_type": "execute_result",
          "data": {
            "text/plain": [
              "array([[1.2309844e-01, 8.1693709e-01, 5.6228682e-04, 1.3655212e-03,\n",
              "        8.6829983e-05, 7.8341328e-03, 1.0204144e-03, 7.4218432e-03,\n",
              "        2.5419898e-03, 9.1758464e-04, 2.5108561e-03, 1.2064937e-03,\n",
              "        8.9415805e-03, 2.3284541e-02, 2.2703442e-03]], dtype=float32)"
            ]
          },
          "metadata": {
            "tags": []
          },
          "execution_count": 40
        }
      ]
    },
    {
      "cell_type": "code",
      "metadata": {
        "colab": {
          "base_uri": "https://localhost:8080/",
          "height": 269
        },
        "id": "rAe4AHvFtyjP",
        "outputId": "36322276-6d54-47f5-cbfa-28fa294aee22"
      },
      "source": [
        "image = load_img('/content/drive/MyDrive/museum/f5961467-b2d9-44cc-b618-8d27700ae9fe.jpg')\n",
        "plt.imshow(image);"
      ],
      "id": "rAe4AHvFtyjP",
      "execution_count": null,
      "outputs": [
        {
          "output_type": "display_data",
          "data": {
            "image/png": "[encoded data removed]",
            "text/plain": [
              "<Figure size 432x288 with 1 Axes>"
            ]
          },
          "metadata": {
            "tags": [],
            "needs_background": "light"
          }
        }
      ]
    },
    {
      "cell_type": "code",
      "metadata": {
        "colab": {
          "base_uri": "https://localhost:8080/",
          "height": 598
        },
        "id": "nifAbU0Hlugn",
        "outputId": "4835891a-ff4c-4737-cd79-cc63ded90854"
      },
      "source": [
        "# Загрузка списка из тест, где есть только фото\n",
        "only_foto = pd.read_csv('/content/drive/MyDrive/museum/Xception/train_url_only.csv')\n",
        "only_foto"
      ],
      "id": "nifAbU0Hlugn",
      "execution_count": null,
      "outputs": [
        {
          "output_type": "execute_result",
          "data": {
            "text/html": [
              "<div>\n",
              "<style scoped>\n",
              "    .dataframe tbody tr th:only-of-type {\n",
              "        vertical-align: middle;\n",
              "    }\n",
              "\n",
              "    .dataframe tbody tr th {\n",
              "        vertical-align: top;\n",
              "    }\n",
              "\n",
              "    .dataframe thead th {\n",
              "        text-align: right;\n",
              "    }\n",
              "</style>\n",
              "<table border=\"1\" class=\"dataframe\">\n",
              "  <thead>\n",
              "    <tr style=\"text-align: right;\">\n",
              "      <th></th>\n",
              "      <th>guid</th>\n",
              "      <th>description</th>\n",
              "      <th>typology</th>\n",
              "      <th>url</th>\n",
              "    </tr>\n",
              "  </thead>\n",
              "  <tbody>\n",
              "    <tr>\n",
              "      <th>0</th>\n",
              "      <td>8d49dc72-33d6-4dbc-b269-de6c1fc563b4</td>\n",
              "      <td>Паспортная книжка Краморева Г.Д.Выдана Новозыб...</td>\n",
              "      <td>документы</td>\n",
              "      <td>NaN</td>\n",
              "    </tr>\n",
              "    <tr>\n",
              "      <th>1</th>\n",
              "      <td>43854438-31d8-4551-b3bb-73d44c02dc95</td>\n",
              "      <td>Открытка почтовая: \"Воен. Гр. Дор. Гора Казбек\".</td>\n",
              "      <td>прочие</td>\n",
              "      <td>http://goskatalog.ru/muzfo-imaginator/rest/ima...</td>\n",
              "    </tr>\n",
              "    <tr>\n",
              "      <th>2</th>\n",
              "      <td>6e138bdb-c1f7-4d57-8b73-52340a96d31b</td>\n",
              "      <td>Брошюра. Положение о добровольных народных дру...</td>\n",
              "      <td>документы</td>\n",
              "      <td>NaN</td>\n",
              "    </tr>\n",
              "    <tr>\n",
              "      <th>3</th>\n",
              "      <td>440c521d-bd15-4b0f-a89b-8b0b160edf04</td>\n",
              "      <td>Карточка на жиры для рабочих и ИТР, работающих...</td>\n",
              "      <td>документы</td>\n",
              "      <td>NaN</td>\n",
              "    </tr>\n",
              "    <tr>\n",
              "      <th>4</th>\n",
              "      <td>b1a6f073-a833-4a08-8c11-48b29d361494</td>\n",
              "      <td>Листовка \"Молодые рабочие и работницы! Знаете ...</td>\n",
              "      <td>документы</td>\n",
              "      <td>NaN</td>\n",
              "    </tr>\n",
              "    <tr>\n",
              "      <th>...</th>\n",
              "      <td>...</td>\n",
              "      <td>...</td>\n",
              "      <td>...</td>\n",
              "      <td>...</td>\n",
              "    </tr>\n",
              "    <tr>\n",
              "      <th>197197</th>\n",
              "      <td>0313dde2-b5bd-4a1a-b7ef-63436ad975ad</td>\n",
              "      <td>Фото ч/б матов. групповое  с фигурными краями ...</td>\n",
              "      <td>фотографии и негативы</td>\n",
              "      <td>http://goskatalog.ru/muzfo-imaginator/rest/ima...</td>\n",
              "    </tr>\n",
              "    <tr>\n",
              "      <th>197198</th>\n",
              "      <td>669ecd91-4197-4734-a9a9-7cb79d4af9d3</td>\n",
              "      <td>Открытое письмо  «Петродворец. Вид на Аллею фо...</td>\n",
              "      <td>предметы печатной продукции</td>\n",
              "      <td>http://goskatalog.ru/muzfo-imaginator/rest/ima...</td>\n",
              "    </tr>\n",
              "    <tr>\n",
              "      <th>197199</th>\n",
              "      <td>07ca9b7c-efea-49e3-8db8-e69e9a079bb4</td>\n",
              "      <td>Фото черно-белое. Художник Алексей Як. Кольцов...</td>\n",
              "      <td>фотографии и негативы</td>\n",
              "      <td>http://goskatalog.ru/muzfo-imaginator/rest/ima...</td>\n",
              "    </tr>\n",
              "    <tr>\n",
              "      <th>197200</th>\n",
              "      <td>c0df1cb4-1ceb-47ea-873e-6d96fc5a1a95</td>\n",
              "      <td>Грампластинка.</td>\n",
              "      <td>прочие</td>\n",
              "      <td>http://goskatalog.ru/muzfo-imaginator/rest/ima...</td>\n",
              "    </tr>\n",
              "    <tr>\n",
              "      <th>197201</th>\n",
              "      <td>139530c4-6d48-44ac-9ef7-da16dcacb3e1</td>\n",
              "      <td>Этикетка спичечная коллекционная. Амурский тигр</td>\n",
              "      <td>прочие</td>\n",
              "      <td>http://goskatalog.ru/muzfo-imaginator/rest/ima...</td>\n",
              "    </tr>\n",
              "  </tbody>\n",
              "</table>\n",
              "<p>197202 rows × 4 columns</p>\n",
              "</div>"
            ],
            "text/plain": [
              "                                        guid  ...                                                url\n",
              "0       8d49dc72-33d6-4dbc-b269-de6c1fc563b4  ...                                                NaN\n",
              "1       43854438-31d8-4551-b3bb-73d44c02dc95  ...  http://goskatalog.ru/muzfo-imaginator/rest/ima...\n",
              "2       6e138bdb-c1f7-4d57-8b73-52340a96d31b  ...                                                NaN\n",
              "3       440c521d-bd15-4b0f-a89b-8b0b160edf04  ...                                                NaN\n",
              "4       b1a6f073-a833-4a08-8c11-48b29d361494  ...                                                NaN\n",
              "...                                      ...  ...                                                ...\n",
              "197197  0313dde2-b5bd-4a1a-b7ef-63436ad975ad  ...  http://goskatalog.ru/muzfo-imaginator/rest/ima...\n",
              "197198  669ecd91-4197-4734-a9a9-7cb79d4af9d3  ...  http://goskatalog.ru/muzfo-imaginator/rest/ima...\n",
              "197199  07ca9b7c-efea-49e3-8db8-e69e9a079bb4  ...  http://goskatalog.ru/muzfo-imaginator/rest/ima...\n",
              "197200  c0df1cb4-1ceb-47ea-873e-6d96fc5a1a95  ...  http://goskatalog.ru/muzfo-imaginator/rest/ima...\n",
              "197201  139530c4-6d48-44ac-9ef7-da16dcacb3e1  ...  http://goskatalog.ru/muzfo-imaginator/rest/ima...\n",
              "\n",
              "[197202 rows x 4 columns]"
            ]
          },
          "metadata": {
            "tags": []
          },
          "execution_count": 15
        }
      ]
    },
    {
      "cell_type": "code",
      "metadata": {
        "id": "AAlckQ7qmlDT"
      },
      "source": [
        "# Перенос из папки images файлов в папку для считывая на предикт и формирование листа с наименованием фото \n",
        "# Быстрый перенос, но почему то в images не все фото из теста есть:\n",
        "for i in only_foto['guid'].values:\n",
        "  shutil.copyfile(f'./museum/{i}.jpg', f\"./museum/Xception/Photo_predict/{i}.jpg\")\n",
        "\n",
        "# for i in os.listdir('/content/drive/MyDrive/Data/Museum/images/'):\n",
        "#   i = i.split('.')\n",
        "#   i = i[0]\n",
        "#   if i in only_foto['guid'].values:\n",
        "#     print(i)\n",
        "#     shutil.copyfile(f'/content/drive/MyDrive/Data/Museum/images/{i}.jpg', f\"/content/drive/MyDrive/Data/Museum/FotoPredict/{i}.jpg\")"
      ],
      "id": "AAlckQ7qmlDT",
      "execution_count": null,
      "outputs": []
    },
    {
      "cell_type": "code",
      "metadata": {
        "id": "wgv1RLuynRkT"
      },
      "source": [
        "# Функция формирования предсказания\n",
        "\n",
        "predict_foto = []\n",
        "prediction_class = [] \n",
        "prediction_class_word = [] \n",
        "\n",
        "def predict_my(photo_path): \n",
        "  pred = model.predict(img_preproccessing(photo_path)) # получение предикта\n",
        "  pred = pred.squeeze() # снижение размера скобок\n",
        "  pred = pred.tolist() # перевод в формат листа\n",
        "  maximums = sorted(pred) # создание нового листа с отсортированным по убыванию значение\n",
        "  maximums_val = maximums[-1] # записываем максимальное значение в переменную\n",
        "  pred_index = pred.index(maximums_val) # записываем индекс максимального значения\n",
        "  prediction_class_word.append(topology[pred_index]) # записываем класс словами в лист\n",
        "  prediction_class.append(pred_index) # записываем класс цифрой в лист\n",
        "  return prediction_class, prediction_class_word"
      ],
      "id": "wgv1RLuynRkT",
      "execution_count": null,
      "outputs": []
    },
    {
      "cell_type": "code",
      "metadata": {
        "colab": {
          "base_uri": "https://localhost:8080/"
        },
        "id": "gCHJN0qi48KA",
        "outputId": "48bd1102-eba4-4c85-e9ea-22e37abde38c"
      },
      "source": [
        "l_f = os.listdir('./museum/photo_predict/')\n",
        "len(l_f)"
      ],
      "id": "gCHJN0qi48KA",
      "execution_count": null,
      "outputs": [
        {
          "output_type": "execute_result",
          "data": {
            "text/plain": [
              "547"
            ]
          },
          "metadata": {
            "tags": []
          },
          "execution_count": 43
        }
      ]
    },
    {
      "cell_type": "code",
      "metadata": {
        "colab": {
          "base_uri": "https://localhost:8080/"
        },
        "id": "0m3J2vxvyy6s",
        "outputId": "5093adff-1f00-45d8-f03c-3a1fb70595d2"
      },
      "source": [
        "# Цикл по формированию предикта\n",
        "\n",
        "for i in os.listdir('/content/drive/MyDrive/museum/photo_predict'):\n",
        "  photo_path = f'/content/drive/MyDrive/museum/photo_predict/{i}'\n",
        "  print(i)\n",
        "  i = i.split('.')\n",
        "  i = i[0]\n",
        "  predict_foto.append(i)\n",
        "  predict_my(photo_path)"
      ],
      "id": "0m3J2vxvyy6s",
      "execution_count": null,
      "outputs": [
        {
          "output_type": "stream",
          "text": [
            "50ddae34-6934-4d29-9049-c6d3a516ef75.jpg\n",
            "c2ad70f9-64b3-4dea-b9b8-c865ddab64f1.jpg\n",
            "5c0a343d-7924-4c1f-8d44-26b4c4d3fb85.jpg\n",
            "79af89d6-602e-409f-a50b-4d14ff8ba858.jpg\n",
            "41ace5e0-031e-4bcc-a66f-01a77ee0eeea.jpg\n",
            "7db9ce47-fc23-4136-93b1-a9dc642fca54.jpg\n",
            "1d3471e3-285b-4285-8445-cb55aaad4bba.jpg\n",
            "435431f9-3e5b-492a-ae56-a20403985538.jpg\n",
            "0bb6159b-0bb4-496d-b30a-91969aaf9037.jpg\n",
            "9c0aeb6c-afe5-4f77-9e7c-1e001b729e93.jpg\n",
            "523a0e93-6a3b-42e5-a61f-8d22070f727a.jpg\n",
            "07a1bc08-ac08-4bd4-9fec-efd6000e0e1b.jpg\n",
            "4298cd21-0e22-4eeb-ba48-93c6eaab865e.jpg\n",
            "354b4cff-1f3e-46a9-b288-44bf997ebed4.jpg\n",
            "fb595ff4-f226-4541-86b5-dd4b2a4f6fae.jpg\n",
            "bf5b44b1-abca-46a8-8a75-6a5a5f93da22.jpg\n",
            "cc30698f-516d-4863-b54a-67f2f8ca1456.jpg\n",
            "1830ef2b-9541-4276-88b1-1d7c76c11b07.jpg\n",
            "f56c95d2-7e6a-4a6a-85f6-2e7cd32ee592.jpg\n",
            "78c1397d-a32a-45b9-b9f3-649524613812.jpg\n",
            "01774486-2287-42f2-a71f-aa896ee6fd46.jpg\n",
            "29cd3d87-d7b8-4e74-b161-ffa4e06b40bf.jpg\n",
            "236abf6f-33fb-4892-87a8-8027d83ed9c9.jpg\n",
            "8ebeba5a-aefa-405c-be2f-91ae3d925c68.jpg\n",
            "c4c5f03a-980e-43d2-ba00-e50c45eb899a.jpg\n",
            "d35ffb61-24e1-486f-bba9-9bb377a036ba.jpg\n",
            "f2458c3d-2ea4-4f04-840c-29bc023245eb.jpg\n",
            "ca87776c-04f0-4f94-8af9-d7facf3d89a2.jpg\n",
            "6ff73efe-b7d3-42b3-b5b0-85e58464014e.jpg\n",
            "89b2dc56-dcb3-4e4c-83f0-2587f6509275.jpg\n",
            "154a272b-1504-48f9-af9e-ea40fd81bb42.jpg\n",
            "47822711-4cec-494f-8478-77345350e2cc.jpg\n",
            "7776e102-9ab7-4bdf-a7da-d5ded654e3ed.jpg\n",
            "75673712-1f3c-491f-8560-2aa0ee25224b.jpg\n",
            "dac4bd33-9e5a-4420-9222-46e9757ad0e0.jpg\n",
            "3a7062ce-3704-46e2-9b1c-ff538b74e4e1.jpg\n",
            "b192d3bc-4f69-4ab2-94f0-c5e3b67d11d7.jpg\n",
            "1550b6af-627e-45c5-b74c-148649c27f8b.jpg\n",
            "2c671262-84bd-4950-8089-f3b15e10b26d.jpg\n",
            "4847b166-155d-4c4d-97d3-9aec3825d21a.jpg\n",
            "39668e1c-c1aa-45d2-855d-5d609598c586.jpg\n",
            "6266974a-78ae-4254-beb8-6819bbdf4c1e.jpg\n",
            "c374b185-74e0-40ab-a64e-64436315c4d1.jpg\n",
            "f813d176-bf48-4ab7-a741-7223b06a435e.jpg\n",
            "1976c8f2-d359-4a5c-acba-281458439174.jpg\n",
            "e46d503c-7b61-4e31-9c11-206145f1cfcc.jpg\n",
            "a939efb0-9fc1-4ab7-8bb7-6f247c31792e.jpg\n",
            "538d1094-ffad-4908-99ca-fd1b73b2c681.jpg\n",
            "635be028-3869-4dfe-93a7-ef8c0ba4dbf7.jpg\n",
            "0460aeb6-2705-4a4d-98a5-860859cc2d42.jpg\n",
            "1221005e-e226-408e-ac65-0a095e674cee.jpg\n",
            "05286f44-d566-44cc-95b6-6a0123db0a85.jpg\n",
            "aed8469f-e676-4828-962d-d125f76494c9.jpg\n",
            "588b3f4f-63c8-4e54-9fcb-b43c118995cc.jpg\n",
            "1caab9a5-1686-41d4-be10-d43ffd6e4b1b.jpg\n",
            "60aac449-a171-48f0-9f81-967c5a4b4308.jpg\n",
            "ceee8b80-6c2a-4853-b69b-b9c857e8b8e9.jpg\n",
            "f8ebc5cd-f420-4498-b849-c56962a004de.jpg\n",
            "e4a874a4-0a0a-44d7-bdb3-0fe88aec23a4.jpg\n",
            "54c99de4-a9fc-4245-b066-58e820bcfbe6.jpg\n",
            "12bfb454-7bf6-41d8-9f5c-4d2ce0098805.jpg\n",
            "82c91b55-5e37-4055-b377-0a2ed8a98f3f.jpg\n",
            "8342a80f-e727-4455-9dd6-973a2dbdbefb.jpg\n",
            "ff3e6a9a-479e-48c2-b90a-253c0d624850.jpg\n",
            "2a35acbd-7608-4287-a27d-98030de0afff.jpg\n",
            "32f57a8e-d178-4a31-9cfd-12c258b8a457.jpg\n",
            "e01b4684-3c2b-42eb-a142-173fd9246a08.jpg\n",
            "eceecf84-804a-4744-a2b9-cbd0d4d487c0.jpg\n",
            "9b2f9c44-1bb9-4172-9bc9-a8039faff92c.jpg\n",
            "a8310d29-4ade-4c82-89dd-720fc21d3c51.jpg\n",
            "c3647e48-b3c1-4a5d-bf70-d7e3c49af875.jpg\n",
            "40dc573e-43a8-4118-8ee2-bbfde95b5f39.jpg\n",
            "4c290636-6fce-4424-836f-6238e240ac76.jpg\n",
            "3be59e6b-2ee9-4430-92ee-ad2ab939ac83.jpg\n",
            "eeac2eba-dea5-43f3-8643-db5f9dbc6b80.jpg\n",
            "8164f3bb-68f1-4ab1-955e-a56fb5f8c706.jpg\n",
            "117d3d78-bb6e-4c37-bcb6-aa8810ab353a.jpg\n",
            "8b8ac0bf-183f-43c3-b930-9c5722545203.jpg\n",
            "760ca9ea-5309-4da2-aba3-9889b0ab703b.jpg\n",
            "233751ee-b482-450a-8172-e789f96eb78d.jpg\n",
            "e25aea1c-a8ae-491c-bbe1-d8730ca5a0bb.jpg\n",
            "383ac1cc-382b-4a97-b4e9-bfd404d4f9ee.jpg\n",
            "2d2650ba-7cf1-48e9-be5e-6f6b8020704c.jpg\n",
            "f66a548a-cc74-4c03-90ef-70c219a2f9b4.jpg\n",
            "290c4bcd-bc50-4ae7-a487-f5565fe4a9d5.jpg\n",
            "86b3fe2a-d125-4766-b4fd-40f131f2d90d.jpg\n",
            "7173c5db-fad1-46d7-9c70-fce3118af563.jpg\n",
            "f4c6547f-eff9-4dff-81e8-2f5375478b61.jpg\n",
            "1b03d3fa-a04b-419e-ad19-d21c8b359fe0.jpg\n",
            "6339acb1-09e3-4d2d-a6c9-8bfc928985f0.jpg\n",
            "7c6c4ec7-4daf-4dfd-ba5d-9a2daa59d8f2.jpg\n",
            "32b93229-3048-46fa-9fc4-1c2b2d829bb7.jpg\n",
            "8f623283-4809-4205-8cb6-7451a64ed7d0.jpg\n",
            "6d628a0c-b15f-450d-8e36-212f7bb0adcd.jpg\n",
            "b0026f98-4de4-40b7-a3bf-617f92a6a872.jpg\n",
            "a03bf8d5-94b0-42fd-808d-793300e3c135.jpg\n",
            "d299906b-a9da-4356-b56d-192adf5ecbb7.jpg\n",
            "29de49f2-807f-45a9-87c1-f198387e64e6.jpg\n",
            "0ee6e6cf-d69c-4497-b417-48ee42d1ab4b.jpg\n",
            "c5edd353-ce38-4798-8341-452e09ae7bff.jpg\n",
            "b73f56f6-d98b-4a60-9f99-bd10784c67c8.jpg\n",
            "5fb6dbf9-e34f-4788-8f12-a8672a86ced4.jpg\n",
            "d94fe572-633c-48ea-91e9-135a88b8e96c.jpg\n",
            "366a0ad4-f1f3-4b6c-9c1c-8ee65559e953.jpg\n",
            "56963d68-4b1a-4909-a94a-0065b74bc591.jpg\n",
            "02db9cc2-bd27-4a6a-bb92-7947cab42445.jpg\n",
            "e00b7260-9fce-43c7-bf2d-7dc2b5f75ed2.jpg\n",
            "c770b5d3-a8c1-4351-a282-2d57636ad532.jpg\n",
            "bebcbd03-b0cd-4740-bffb-9d0ac24f6282.jpg\n",
            "52b74da7-f740-4712-8b7f-f6654f5f7fac.jpg\n",
            "ac0b9cc2-7f6b-4b03-b0a5-5a745c8fec54.jpg\n",
            "97d1d06e-89f6-45f7-911a-306465cbbec5.jpg\n",
            "695cbdc9-fd5d-492b-8950-3a6e0ae7bb9d.jpg\n",
            "9fd47121-0307-4bed-8147-41c4370bf185.jpg\n",
            "d0e19896-f762-434f-9a7b-79031dc3e043.jpg\n",
            "90950b31-2a93-4e3c-a630-59fe8cef063d.jpg\n",
            "ce2cfdaa-951e-4b87-90c9-0f20ff89ace5.jpg\n",
            "2b405238-689a-4969-bd6b-452a7fb6fb1f.jpg\n",
            "fc85de74-1420-4189-b16d-d948c1e4246a.jpg\n",
            "195cdc62-0946-4d10-b827-10e0d595a5d6.jpg\n",
            "ee8a2817-a0b8-4d93-a682-8702dad65141.jpg\n",
            "9fd3a974-cbd0-4a11-ac54-6996057143a9.jpg\n",
            "bc2c6726-1e89-4ba5-a709-790819954d31.jpg\n",
            "fbf85d0e-c86c-483e-909d-1053c75a3d52.jpg\n",
            "cc7e8b62-77cb-4069-957f-e17a7d010a3a.jpg\n",
            "6257d588-3d6e-4d99-9070-9cef82ebbe33.jpg\n",
            "fcf6567b-8392-4f24-8b6e-92039e823f89.jpg\n",
            "938e0f82-ad49-4aac-b7b6-0e2950285694.jpg\n",
            "e61259b8-4e2d-44b9-9668-c3d6fe96f8e3.jpg\n",
            "c309953d-41e7-4901-8055-20ec1442ceb9.jpg\n",
            "85730fe7-1c03-4395-86aa-1b11e33bfbbc.jpg\n",
            "8b45ed5a-976b-4158-9238-515f6456efe7.jpg\n",
            "ce73bf86-7245-4358-b947-5da295c3f361.jpg\n",
            "5e802b1c-cab6-4453-a4b7-a473ba62fcef.jpg\n",
            "5de01b0a-bb5e-45b1-98ed-671e47880bc5.jpg\n",
            "9a417533-4a86-472c-ad34-7b0c21ea0b5b.jpg\n",
            "40651633-ba80-4801-8b08-93c3019ee1ce.jpg\n",
            "1e73f6f7-9ea4-4dd2-b4d4-cf519433634b.jpg\n",
            "9d9164b8-3270-4fcd-8e1b-56b5b8a05471.jpg\n",
            "1725132a-404d-4f09-a196-fcb9b7371926.jpg\n",
            "2c57158d-ba9d-46c9-b453-72a12c01a379.jpg\n",
            "5a200870-c246-4341-99e1-3ecae1bbc9ff.jpg\n",
            "9919b83b-51d7-4af3-8263-65742c7f3dc7.jpg\n",
            "7e154917-998b-45be-b407-9305b3cec794.jpg\n",
            "f7f68332-d29f-4d56-9840-c672d6ba3408.jpg\n",
            "9009507b-7c55-4229-89ce-357c969d2c9d.jpg\n",
            "b0991927-18ad-42de-817a-dd7eb2dd97ad.jpg\n",
            "d027c401-883d-478c-be95-3d0e2a84c0a1.jpg\n",
            "0f969757-5b8a-49eb-9d1c-626be6299181.jpg\n",
            "4b934c57-e602-49c9-a337-9756657f4ef2.jpg\n",
            "abc933b7-ea83-4d06-a09b-67183c3fb283.jpg\n",
            "6bce6f62-aa1c-4ca2-8615-f8f2bf4c1cd4.jpg\n",
            "03e71731-0691-472a-bf98-b4929224555f.jpg\n",
            "a63a83ed-5ced-45e7-ae2b-3a177746c0b7.jpg\n",
            "9cd132ef-0323-4ad8-bb5c-41e1b5e98e21.jpg\n",
            "af163753-08e0-4726-b84f-60c94d8a4e5b.jpg\n",
            "54a738e9-fa87-4507-a013-88b4204915bc.jpg\n",
            "91f04b5e-32c9-438e-a996-8f86ff7314b8.jpg\n",
            "71a7e736-7663-45d8-8b31-43b7b01d3b83.jpg\n",
            "668d6709-95f8-4406-893d-bd4e2190e2fc.jpg\n",
            "fe05c7e5-6feb-407d-b85d-68d61e868cc7.jpg\n",
            "02c99722-f2ad-42a3-b831-f9397c218ff0.jpg\n",
            "ac000d17-a981-4e7f-b423-10a6acf63eab.jpg\n",
            "aadbb2fd-77ee-4750-a6d6-c9c1b294b31e.jpg\n",
            "979d2bac-9958-4d74-99bc-8539564a24bb.jpg\n",
            "78505832-b2fc-4732-85cc-2be63eb70ae5.jpg\n",
            "df1a500c-98b8-4226-83df-236e25b4f156.jpg\n",
            "a75661fd-6a1b-4417-95df-3cb062c549c7.jpg\n",
            "43fabec6-f5be-44a2-8168-64391f3c2003.jpg\n",
            "19816353-aae4-491c-9f25-fd8586c459f9.jpg\n",
            "1b1fe14e-5ce8-4440-8987-fc276b30523f.jpg\n",
            "6861ee73-4cef-4423-99f8-7e022e144586.jpg\n",
            "8f43a6dc-50b6-425e-bc6e-a04ff00cbe10.jpg\n",
            "f26d81f8-7167-4916-888c-34f084af043d.jpg\n",
            "83da5f42-fd0c-49e8-ac29-8f76a128a76c.jpg\n",
            "964f27b6-0dfe-4042-bad9-4eddf3647c82.jpg\n",
            "8f808c0f-f930-4a6d-8cc0-41566c6be8db.jpg\n",
            "a74014d7-3054-45bd-b284-ac117ccd2001.jpg\n",
            "288f48f0-bc2f-403e-a2a5-10bc3eaa76d4.jpg\n",
            "ef9e9da2-12ea-493c-b902-e3040008a79f.jpg\n",
            "0d79027f-2a12-4b5d-8ab7-aae89a77c09f.jpg\n",
            "24254812-7c6f-4f59-9518-6da701ae72ed.jpg\n",
            "e80b81b0-0c5c-4b2d-acc9-2472d5076757.jpg\n",
            "95ca05b5-3063-4723-9d5d-fffa791a9f46.jpg\n",
            "721bfa6d-3fab-484f-a546-1dc1d3d54270.jpg\n",
            "b61c7d57-374d-4b18-8c78-1e185df1b975.jpg\n",
            "131eeb14-906f-4251-84cb-97755d259ef2.jpg\n",
            "23919d1a-b9f6-4643-bd9e-893ac69aadb1.jpg\n",
            "3f3d3a93-eb68-4310-90e8-74134f92fe61.jpg\n",
            "bf796a6e-38b4-4993-866c-2be783310db7.jpg\n",
            "7478b432-4289-40e8-91f2-b67d5357631b.jpg\n",
            "19b1e554-2174-491f-a736-b0f2498d8156.jpg\n",
            "8349859c-af0b-4f08-be53-0c5863c6e894.jpg\n",
            "63cdc142-9c96-4eb7-aa58-fddf756e577d.jpg\n",
            "aa765162-1651-4dcd-b66c-f6db595c9870.jpg\n",
            "3490cdc5-6a07-48cd-a6e2-8918c0be5b5d.jpg\n",
            "d6db3b9e-bc90-4dee-8880-a46f1ea9dd63.jpg\n",
            "8defb51d-466d-4548-bf35-dfd787fb80cc.jpg\n",
            "534ddd98-0b1d-4742-8f13-6dd5ff182824.jpg\n",
            "08a1b8c6-0e8f-456e-b032-0b6ed5bcaa70.jpg\n",
            "56b6ae01-11ef-41b3-8ebc-47c52aef9a6d.jpg\n",
            "3b97dacb-4994-4010-8df8-fe7cd1a5a98e.jpg\n",
            "2f1de786-3160-4490-ba11-a0f4cd2c1ffe.jpg\n",
            "43934949-0126-40be-961b-5d8e6dc0729f.jpg\n",
            "2701c5c3-4b29-4267-8584-0285bb6b5274.jpg\n",
            "e5dfa911-2946-4253-b5f7-3822036c9458.jpg\n",
            "5d80feaa-45c1-4251-a33f-e74a4c68a362.jpg\n",
            "ae2f6180-48fe-4cca-8abf-46c9513ffb2d.jpg\n",
            "86cefb4f-13ec-413f-a89b-aa86fdfa0742.jpg\n",
            "a5a9e15d-51e9-4034-8414-737f706dcc94.jpg\n",
            "fbc0c101-e9ce-4ebd-b01e-ace4c418da55.jpg\n",
            "3f85d9c9-ae40-4681-b569-b73fd9e68efb.jpg\n",
            "1e8dda72-6e39-436b-9be0-b6892c443ceb.jpg\n",
            "38ddaa03-dc72-40de-a346-22105101790b.jpg\n",
            "f0e62aae-3f28-4592-939e-1aa7fdfae12f.jpg\n",
            "f8b88d61-010f-4610-a850-b17efeea8a51.jpg\n",
            "6e8430cc-bad2-4f01-9955-2372955e6ae8.jpg\n",
            "e63b7e6b-550f-4f35-9c45-47e21f2803b1.jpg\n",
            "3002dcac-9de5-4563-8d70-919a7a3fd0f5.jpg\n",
            "fcaa0c6a-8419-4bb8-8a1c-28f8cd7b09c1.jpg\n",
            "6b94527f-99bc-4e30-828e-8a60d2009974.jpg\n",
            "87a756c4-af42-4b34-a936-45800e599355.jpg\n",
            "8a127527-8c23-4058-9ae7-de497b6f1544.jpg\n",
            "5955285e-2624-4c06-9e5f-12bb0add0d17.jpg\n",
            "7ad3f5c5-825e-4a85-9a73-8b2f3a8f04be.jpg\n",
            "e806c34f-8fae-4ac3-8694-d3c13cc280df.jpg\n",
            "4b0c86b1-f12e-4347-a0af-b88e422a1826.jpg\n",
            "ad9eff83-132b-4bd5-8964-9c72f7aebe68.jpg\n",
            "daaf1c03-4b6c-4636-a1e1-01dd3ef88fc3.jpg\n",
            "dc8699ff-7ee9-4d8b-a135-f084a91ce985.jpg\n",
            "aca343cb-af02-4174-9389-a44407b1ca7f.jpg\n",
            "30ae3af9-f4c4-43ec-b7bb-e936520f6378.jpg\n",
            "a8e09eb5-6d6a-453d-a7c9-c61095f1783d.jpg\n",
            "9c14dbba-31f4-49e5-b5ce-49ed6a8cb9d3.jpg\n",
            "26de30cb-b917-431c-ad52-73076cfa0b46.jpg\n",
            "27cfc3d5-e9de-4dce-bf4e-469d1c74b08e.jpg\n",
            "b7af9dfe-19b6-4ffa-b8d5-4c54c409186c.jpg\n",
            "f1294771-e69c-43c7-8c59-5f79daa1f36d.jpg\n",
            "0b6778c1-433e-4267-8182-554c73abd2da.jpg\n",
            "e957b808-6584-4b6a-9a76-48624c7b1fd2.jpg\n",
            "e98d00fa-ab3e-4149-8787-189528a2362d.jpg\n",
            "53e97891-7c7d-4ec4-973c-5112def9ee90.jpg\n",
            "d1ffb6cd-7110-44ce-ab24-7e1fba9217c1.jpg\n",
            "a1725ece-b3ce-4dd8-b941-3a7442650fd3.jpg\n",
            "f4ddb2f1-fc3e-498d-a78b-d7aadec45cc0.jpg\n",
            "36d8111a-778d-4d85-bf84-2157a9683d1b.jpg\n",
            "cebbf1e7-d572-4ebc-93e6-4eea77a48e3c.jpg\n",
            "f9b108ec-e1df-40a1-bf59-61848f67f676.jpg\n",
            "29699470-169d-4710-a6c9-57181dd178ef.jpg\n",
            "27391fe8-6b52-4cc9-a262-5cea00dab25b.jpg\n",
            "fc37c78d-2a67-4736-bd53-e25eeaf3b2d3.jpg\n",
            "3d193377-76cc-4242-bb81-87d46fe3d64f.jpg\n",
            "ba3f92d6-dc72-4b71-bdc4-97073269138b.jpg\n",
            "f7dc3c22-b4a2-4a42-acf3-778bb15c914b.jpg\n",
            "6020d5ae-5163-43b5-9c0f-a11add5cc4ce.jpg\n",
            "ebdf24f0-f00b-49b0-9906-4033e9c658cb.jpg\n",
            "8e7e2514-fab3-4287-be06-aae93c5397e0.jpg\n",
            "9cc5016b-950c-436b-8ef7-eb9238de465c.jpg\n",
            "d2842dfd-81ba-42ed-8e46-276bc7475e2a.jpg\n",
            "4497564e-1307-47c7-8df4-785fe555f287.jpg\n",
            "0ad672f5-7f75-49ae-bf55-a921356ffd46.jpg\n",
            "bef27e1f-8abb-4cb6-9080-7f24e878eb78.jpg\n",
            "49a312f0-732c-4e7c-82fd-3e3731a6d581.jpg\n",
            "1f6cf67c-612d-4c18-850a-8955fe4092ee.jpg\n",
            "3d38df72-c0f9-4757-b2f6-6f3f132e378d.jpg\n",
            "1ae8c190-262c-4f59-98c1-5af0156968ef.jpg\n",
            "ac0f26b1-249c-4ce8-b93c-9fd13f210800.jpg\n",
            "2da3c185-2d7c-4a5b-92ca-4a6830e3b36b.jpg\n",
            "2d84f468-5abd-4e00-9460-f8f81d9eb17e.jpg\n",
            "331632c9-b3b6-44a9-9354-992e7a6c78c9.jpg\n",
            "73076994-b608-4772-9661-51de2d9d20ad.jpg\n",
            "63aba1a7-ef2e-4a92-bd87-f10f7ff7bbbd.jpg\n",
            "5fa9b223-3817-43ae-a88d-ad3c45b92036.jpg\n",
            "7fd6f5af-8968-424c-9098-55034747b9ea.jpg\n",
            "83a1dedc-e044-440a-bdd2-c2f6f850f606.jpg\n",
            "c165abea-bbd8-4f41-88d5-8678606e5042.jpg\n",
            "f5ed2e12-eba7-4990-8def-8351c4d6060e.jpg\n",
            "3bf9b630-ffa8-4330-bb65-3c3c53ac804e.jpg\n",
            "021d6f40-bd41-4148-9ab7-2ddcd6e894ad.jpg\n",
            "d7ea99f0-080b-48bc-9e1a-c1c8fd196c41.jpg\n",
            "1ee3d92a-4a22-43d6-9ad5-712a56de9b1a.jpg\n",
            "d01abb59-b503-4dbb-80cd-b266d1283f09.jpg\n",
            "15275c65-403e-4aa4-81af-c1444b604042.jpg\n",
            "b1d5f7d2-cad6-42ed-bc0d-cc939d1349cb.jpg\n",
            "a904c04a-4a78-4dc8-be78-d04b11e4b12e.jpg\n",
            "9776921d-6d64-4666-8361-28b22fba7a81.jpg\n",
            "5a077b73-e4ea-46ac-a58f-cfe7da394f4a.jpg\n",
            "a7e560a4-22e2-4820-8140-34e1586cbd8a.jpg\n",
            "704508b6-0b9a-4bfe-8bc0-239328dd56a7.jpg\n",
            "852b042c-4424-4022-ac3c-20091c502c70.jpg\n",
            "4ced20dc-196d-409b-a94e-5a501bd446bd.jpg\n",
            "a02a2d1a-594d-45f5-9519-b4b1f5bfaba9.jpg\n",
            "094e1f33-5488-43be-b7b7-e595a9a3a054.jpg\n",
            "074f2f1e-0ec9-4e28-abe6-da316721d09e.jpg\n",
            "eb3b96b5-ba41-4114-a093-deeb757f485b.jpg\n",
            "55941306-809a-4be9-9d3b-1535f805c55e.jpg\n",
            "d5cb4d7b-2d82-4ee2-a4ac-4d8766a6fc9a.jpg\n",
            "9e3cdedf-b3fe-49b6-b1cd-b194e6688338.jpg\n",
            "63b8bbfb-6a5b-41a8-aa5b-bfe6ca9aca80.jpg\n",
            "5b12e597-53ed-4ee5-a09e-8b816930ecdf.jpg\n",
            "f6ae255a-dd51-4e06-9638-2f885219d6bd.jpg\n",
            "3d37493c-8053-4f50-b17f-5bd0ff8ec049.jpg\n",
            "1996c2a0-ab2a-436c-bf9b-0a07c4f612c8.jpg\n",
            "89140c97-f820-415f-b3ec-0959ef27142d.jpg\n",
            "4dc46f69-bcc9-4450-a66f-383bbefe1ce5.jpg\n",
            "f5961467-b2d9-44cc-b618-8d27700ae9fe.jpg\n",
            "f69fef0c-1174-48a8-b31f-5d8997bc3d51.jpg\n",
            "ac67fb45-114e-4b98-bdf3-7114ee989144.jpg\n",
            "5dfae622-1be3-4c2b-8b3b-646a5282fc0c.jpg\n",
            "f0a6055e-2d1c-4cc4-a016-ecd959fbf9bf.jpg\n",
            "53aa44f9-9b39-4b65-ade9-9999d6b0c505.jpg\n",
            "8d6eac28-db01-4c29-8a40-dde18de99397.jpg\n",
            "9c0187c0-4308-4fd7-961a-2a9ed616ec49.jpg\n",
            "2dddbbe1-7b7f-42ea-84a0-c80a660a79ea.jpg\n",
            "a3548bc1-ee7e-49c4-b48f-f6e0aef935c4.jpg\n",
            "ed927816-ab77-4338-b5c1-8977bf0d9035.jpg\n",
            "b63027df-0e2f-46d0-bfde-3e6d02dd844d.jpg\n",
            "c0de77b7-268f-4665-ac84-3303932e6237.jpg\n",
            "fabc3ff9-d442-41c6-9609-1fbcdf717a45.jpg\n",
            "695827d0-8222-4250-bf6d-caac90580a93.jpg\n",
            "f23b54a3-80f6-476d-979c-9699be1d0005.jpg\n",
            "5aa0e54e-d8d2-4476-80ee-75246de7eebe.jpg\n",
            "a05edd8e-a39b-4a98-8d88-f2c2d41ed86f.jpg\n",
            "50b165c5-0c62-4262-986e-367dcb6258bf.jpg\n",
            "0cbf1843-8d67-4c5e-a060-592e3ca0770d.jpg\n",
            "661a3827-82ac-4538-a3c5-3a6d001beb16.jpg\n",
            "9d28c84e-94e6-4dd8-a040-761e3c2fe374.jpg\n",
            "da34e1da-0bb2-4be4-a8d9-75d188952b14.jpg\n",
            "2a5b8a2b-8810-4bc5-8c0f-326df42fa5fa.jpg\n",
            "b7c13a62-1661-403b-85c7-a292e572f138.jpg\n",
            "ad1287c1-bc1e-4c0f-8318-6871fb584b1d.jpg\n",
            "b95f1af4-b96f-48fe-a65d-88ef366c1a1c.jpg\n",
            "6ea5dcaa-5e32-4feb-9f5e-1be185e05d26.jpg\n",
            "37293635-acb6-4196-9cbf-438204df9af7.jpg\n",
            "fd96b9ee-01bb-4e34-9ae4-d200c7826211.jpg\n",
            "505827cb-dfe9-4b8c-a705-87ab66d947e7.jpg\n",
            "7c4010ce-77c3-47ad-8e5e-52c6f5ea079f.jpg\n",
            "841f00a0-1b26-446b-96e2-c945a0eb020d.jpg\n",
            "9afe3ff0-eb6b-4a5d-a9e1-68928e4e369d.jpg\n",
            "7b10119e-b72f-400f-9124-14bb0e5ba082.jpg\n",
            "c25d1bbb-5236-491d-8c22-1017c150942e.jpg\n",
            "b56c5fdc-d3b3-4bff-a031-47c44d95713e.jpg\n",
            "35d6ed78-e184-4fed-b194-cb6cd0a48769.jpg\n",
            "d9bf9bf0-dc96-45a3-9221-7a2f1c250445.jpg\n",
            "f342ed48-2d9f-4cb9-b97a-c14175fda91a.jpg\n",
            "5499d133-10f6-4a16-8ab9-a552868cef43.jpg\n",
            "7298f1e8-df53-4fd0-ae26-f5abb5dd4432.jpg\n",
            "6a2bcfc4-c374-45de-9a64-f76bd69bbc23.jpg\n",
            "274453ac-b0eb-4e7a-9ef2-834a2d61eefe.jpg\n",
            "1b5c2177-b579-496c-ab08-75e0b63eb230.jpg\n",
            "5240d1dc-e358-452f-8616-517463773358.jpg\n",
            "3f3bce61-f1f8-4992-aa32-dab470ce1f18.jpg\n",
            "6a0c78c6-0dda-46b6-8d7b-37bc2a28c756.jpg\n",
            "d4b9662f-2725-4a47-900c-25851c95e951.jpg\n",
            "c8f7d150-b122-4dee-b9b6-5185d9850b28.jpg\n",
            "ad5bee46-db86-4cb2-8968-14eeb8290b05.jpg\n",
            "875cd252-cb8d-4206-9f43-83464e16a03e.jpg\n",
            "a9e8026b-3e9d-415d-9f92-33f4e88a74cc.jpg\n",
            "d4fc3d62-edf4-44dd-a42f-be047a99c2f1.jpg\n",
            "422d4486-b5d6-43ae-8c0e-366bb7eb1699.jpg\n",
            "425c1abf-33f7-437e-a247-539c6eaf1ec1.jpg\n",
            "123f66a6-05c5-4457-8212-752b0463f91d.jpg\n",
            "34344d51-172d-4201-9d7c-bbed55081a46.jpg\n",
            "81018fb6-8000-496b-8f64-727228790894.jpg\n",
            "03c4050e-11ef-4dac-b766-c0dbe06118a7.jpg\n",
            "80c99fa1-c4ab-4147-abc8-57f5db2b6bd2.jpg\n",
            "27771ac0-03ca-4f74-8745-9426b672d26d.jpg\n",
            "6f1f3a02-66dc-41b9-b75b-cbebd43e52e0.jpg\n",
            "dc92065e-ce53-4878-9d18-250cd654aa43.jpg\n",
            "b0066bbe-1a18-4b4f-97ef-f94f22440cdf.jpg\n",
            "1a884017-46b5-4e1a-96a9-225cfb23f8b1.jpg\n",
            "853133b4-ca0d-4fbf-b8d0-f861ec62c4fa.jpg\n",
            "d12584bd-d51b-46d9-8d8b-4cfacae075fd.jpg\n",
            "469c9fe9-2907-48b1-b0d3-5038cadb5df5.jpg\n",
            "00ff419e-e1fd-46f1-8abc-8e1b012c1e48.jpg\n",
            "43200753-b627-4c93-b489-2adbe603bfa0.jpg\n",
            "ad606bd7-1bfa-4d0b-8a20-b95ee1df1bb3.jpg\n",
            "3ff36436-1f22-4927-9b40-11c96e511b15.jpg\n",
            "240c273c-ed4c-472c-b03c-5ef5b9ebddbe.jpg\n",
            "10a1004d-9857-47dc-a2fe-ef1793497cd1.jpg\n",
            "35d284f3-9cc9-4b4b-af3a-edbbe10af54a.jpg\n",
            "08a55984-e316-42db-b0de-ad7303d3e486.jpg\n",
            "50a3b8b8-a539-4596-811d-8e335821827a.jpg\n",
            "897b9fb9-30ca-4072-afa6-54e74493ef31.jpg\n",
            "112037f3-b2d1-434d-851f-6a07d2483bbc.jpg\n",
            "f99a6250-0dd4-4ea9-bedb-b8b12c67b86e.jpg\n",
            "821756d7-500b-4d2b-a667-0fd7fd3d5b3d.jpg\n",
            "558c1054-dcdf-4e76-9d0c-cb4330de69c7.jpg\n",
            "a0a8c2cc-bc75-4f58-9263-16491d6794fa.jpg\n",
            "c486acbd-08bc-4fdb-a9af-dda037fed044.jpg\n",
            "d875ba2c-8d60-4c62-8076-02cef7343471.jpg\n",
            "84f0d0a8-e1f4-419a-8db8-c349cf1a4aee.jpg\n",
            "8a6fb3ba-bd5d-450c-ab1d-ceefd17cf730.jpg\n",
            "71ade883-9751-4d40-a86e-7d4dadccd0a7.jpg\n",
            "0051bcf7-197d-41be-bcd8-73fcf8e46cfd.jpg\n",
            "b32d4210-5365-498a-9a13-18896a8a3164.jpg\n",
            "7059f7dd-8d6e-4a20-bc16-5e504c269db0.jpg\n",
            "8670404b-0f8c-4d45-9fa1-51a7c3c5bf5e.jpg\n",
            "d3981264-2cb4-4ad8-8170-731ce003fea5.jpg\n",
            "a2c8e732-876b-48ef-9b04-9a6fc5e0594e.jpg\n",
            "674ddb5f-f895-46a9-b78e-eb8395f9b15e.jpg\n",
            "12f14405-0e23-4aa5-9a61-ea2b255e94fd.jpg\n",
            "0ed1db7e-b408-4667-8b9d-3a5ab3a92333.jpg\n",
            "bde8b8e0-05ea-4c02-9da5-0b1f97baa021.jpg\n",
            "bb0abfa9-d140-42dc-bedc-ed719521371d.jpg\n",
            "d5be0e2c-317f-457f-a642-1c067d9a46be.jpg\n",
            "6d14bf57-2767-4118-ae03-84942b3f0a30.jpg\n",
            "0f51e246-cd8a-4b4c-86d9-e50cf91480fd.jpg\n",
            "bec5739c-55cd-4220-8fcd-7ce2d6e67e10.jpg\n",
            "c36b9434-431d-421a-97dd-8e3c35cdcabf.jpg\n",
            "84a7984e-ad76-4bd9-869d-c554377a8456.jpg\n",
            "d55b7bb7-fc5e-41e1-a2ad-6d68f57330f4.jpg\n",
            "ad8687ed-bafc-40a0-b229-b0c932b2a48c.jpg\n",
            "92846eb8-76e0-421e-917f-75f72bbec643.jpg\n",
            "42df7b98-7d26-4526-9490-437a49c15bd3.jpg\n",
            "1c38568b-04fd-4b31-b7ec-bb84fea6b150.jpg\n",
            "3790f43c-0c6c-4be6-87e2-cc38f25968c7.jpg\n",
            "6197461c-a90e-4957-a453-832dd9c34881.jpg\n",
            "b12cb86e-70e1-4e69-9bce-e029ac161773.jpg\n",
            "35294f57-694b-432e-b2ce-9c394891f640.jpg\n",
            "2d3d37ca-27f1-461f-9ceb-d14883711f86.jpg\n",
            "03cf8878-07a1-431b-b90c-ca1b89586b23.jpg\n",
            "a311b334-746c-45bf-8921-d69bd4178361.jpg\n",
            "ea6bf669-0fad-42a3-8c82-04112eb26f7b.jpg\n",
            "cf6228fe-d04b-412e-b6e7-38b252b8d3b5.jpg\n",
            "076d5206-3f76-4351-8f03-cbd451bbb175.jpg\n",
            "9ab6b52e-a185-4d16-8853-5f378eb656a8.jpg\n",
            "45391489-9848-445f-92b3-a1f61c10c3a9.jpg\n",
            "eae4583f-fbd0-4a60-95e6-28282433bc0d.jpg\n",
            "e03c068a-f2e2-4cf0-ba64-5484fff01b2a.jpg\n",
            "4e6b1f73-3953-4d28-b839-9058e4319e37.jpg\n",
            "933b6800-cc79-46df-bcb3-7976b9d768e9.jpg\n",
            "c45ca901-d14e-4fba-a307-893752987269.jpg\n",
            "b8fc57a4-62eb-4bce-a574-0040092a501f.jpg\n",
            "eccd51d5-dbed-4b4e-9fa6-94c94ee8b849.jpg\n",
            "a85911b9-5d42-4147-88b0-86b94a238927.jpg\n",
            "6900941b-0e4d-4df5-94cd-ae3088439a17.jpg\n",
            "24f98fd8-5bbe-4250-815b-758d62ca15ab.jpg\n",
            "be6434b6-ebf5-4c83-9135-ca64e4d348b1.jpg\n",
            "1b0fb1df-19a2-4830-9e3a-34b9b85c51c0.jpg\n",
            "be350ab9-27d7-4e53-b4c5-6cfbb2270e2b.jpg\n",
            "140d6b4e-3058-4a8d-ac7b-e1db3300a306.jpg\n",
            "6769a47b-342f-46a8-b6fc-84accf9c2565.jpg\n",
            "e0f8ca73-5092-48dd-ade9-35f862635073.jpg\n",
            "43238cc1-9108-415f-b2a0-779deab3a450.jpg\n",
            "e019b245-086f-4efb-82b4-c83d6477bc1c.jpg\n",
            "5cedde5d-6e79-402a-b500-fa7f245643d0.jpg\n",
            "d8557b7d-9bb1-4bd7-8aca-ad189311b1eb.jpg\n",
            "2adea54b-2be7-4f7d-8dae-8c7d98060290.jpg\n",
            "e7e59943-7e67-4f9c-af4b-732d8b2e4181.jpg\n",
            "c52f1a2d-0b1e-478b-b366-a8d0aed353d9.jpg\n",
            "25149171-aac4-4321-9a85-3eb2f4254c65.jpg\n",
            "4529505e-e89d-413b-97df-bd1bf6e2b1d9.jpg\n",
            "fd677692-17ea-48d6-97fa-2ac003ebbd16.jpg\n",
            "f2c83729-effc-4cec-b485-bfb7d3a4e2dc.jpg\n",
            "471e6fd7-7353-4544-964f-4fd630471c63.jpg\n",
            "23da033a-a1fb-4637-87e8-f301c463dcbc.jpg\n",
            "5683bc01-da50-4a95-a502-5d678370cad1.jpg\n",
            "d764b74f-1430-4d4c-b0f0-27cc1b74c9db.jpg\n",
            "eb50656f-7dad-4da8-95a2-559684903577.jpg\n",
            "ba5f87ff-f759-4c22-b1f6-43e6f4ca0a90.jpg\n",
            "afb1d263-fc42-4567-bc1c-440c39d86982.jpg\n",
            "7c91664c-d698-4403-970b-ad278f63bc58.jpg\n",
            "f20774d4-80ed-4141-98f1-1d2b2e8a7470.jpg\n",
            "06232a4a-8a2b-40ec-a552-caa24bf78f4b.jpg\n",
            "17ccff72-0419-4a88-bdaf-446d59016290.jpg\n",
            "cba11341-a074-4f55-a64d-ea2a522da4a1.jpg\n",
            "7339aad5-bc6f-4643-ad57-b54a8727bba2.jpg\n",
            "d9887a8d-59e6-493b-93e9-b120648e1c98.jpg\n",
            "14327710-ad5f-4aff-90ad-b0cf78265f41.jpg\n",
            "462a6b49-2ea3-43e8-b3d0-7f23076cea73.jpg\n",
            "80513c0b-f017-467c-8b38-04660a6ecf55.jpg\n",
            "c7ab2824-77bf-4e43-9637-1935cb3d0944.jpg\n",
            "7bb178d2-f8d1-4ded-a0af-7b3039a2b9c6.jpg\n",
            "77b8c120-32aa-4f16-b0c4-6481c244d62a.jpg\n",
            "09fff69d-c234-471f-bf65-ee12f9846de0.jpg\n",
            "7519ca50-b4ed-4dcc-8a48-849e3713666d.jpg\n",
            "fd22d4ad-364a-4c67-8fd4-8a04f9bd5c1a.jpg\n",
            "2ecda9c2-3aec-43ec-8082-55392d2fd418.jpg\n",
            "285e1c64-189b-4fcb-8fe4-0faf82e628bf.jpg\n",
            "5f58697e-a283-4550-a63c-37792d94a5b1.jpg\n",
            "873b7bee-08da-472b-abdf-6ffd2d793491.jpg\n",
            "e4c8be9b-5315-4777-a3d6-d51358c09f99.jpg\n",
            "d8130bf6-50ce-48d2-aabe-9e680fbf5bea.jpg\n",
            "fd2cd4a8-cdcf-4484-adf6-bad91a2c472a.jpg\n",
            "4f5431a7-9f99-43ad-a693-8a8180d5fb36.jpg\n",
            "3b064d46-4349-4608-8ad0-3aa1965149b1.jpg\n",
            "7bea105a-1e22-4416-b4f0-06d5a05d8c18.jpg\n",
            "948a679c-ec94-4164-a2c7-aa5040c505e8.jpg\n",
            "b8821955-7739-4fea-90dc-42182aca4eef.jpg\n",
            "69259656-0ab3-40c7-b765-10d8b0eae517.jpg\n",
            "235da4f9-9902-4afc-89e8-e083c573f306.jpg\n",
            "a7229b86-7de7-4970-a0ed-4f23d143e1fc.jpg\n",
            "a5750233-96d7-4650-9a25-365b0b379686.jpg\n",
            "4e2a8d3a-89cc-4441-bbac-301275de6720.jpg\n",
            "eb9f223f-57e2-4436-b21b-7cf09d591ecd.jpg\n",
            "87c12931-1705-4575-ae41-a48182088d87.jpg\n",
            "10064b93-4008-4779-b68b-081595846d79.jpg\n",
            "b4d0d93d-6765-4240-a0d4-a07625c12655.jpg\n",
            "f93015e7-dced-461b-a458-2e0a3599c009.jpg\n",
            "1783d70a-45bb-484d-9245-5768024e0eb5.jpg\n",
            "ab1bab99-c5c0-4bb1-9b18-9176dda69086.jpg\n",
            "98242148-bac4-423e-903f-bad3415b2617.jpg\n",
            "a1f4dfe0-dd8c-4d34-a43d-7258eab7dff0.jpg\n",
            "bb6ce494-4f54-4de6-a645-9bb8207c0a22.jpg\n",
            "da89799a-0812-4854-835e-67350f28f9fe.jpg\n",
            "b01efa83-bcdb-47d7-86d2-34083715fb79.jpg\n",
            "bcd8a0ef-c0ff-431b-8026-6386181bd226.jpg\n",
            "67621e30-db78-486b-a4c4-76fc0eee9111.jpg\n",
            "764721b3-3ae8-48ae-9087-1de3d42bb010.jpg\n",
            "3e251794-197f-49de-a89e-ca8227ec2d71.jpg\n",
            "27a2ccbf-a879-4194-91ce-1b7bef4704dc.jpg\n",
            "77943f60-312a-4053-ac3e-05927f8bd064.jpg\n",
            "077aada5-58ba-4a68-813d-7600d521a680.jpg\n",
            "4f26fa74-f0de-4c8f-96c3-de27f04a14b6.jpg\n",
            "200b1da1-122d-4bc1-96c7-44a283fd50cf.jpg\n",
            "c6159533-036f-44c8-b331-00f9c2ac4f4f.jpg\n",
            "398b3a08-7a98-4377-b5b2-7ebe7a120939.jpg\n",
            "27915e8b-6dc4-454c-a9f1-ed5c4163b1e6.jpg\n",
            "6306d43a-e8e9-406a-8b31-6af5d4ebb4ad.jpg\n",
            "b72f317e-a5fc-4ddb-8521-f18b1526d8cb.jpg\n",
            "7a43ada3-7f7d-4b36-8787-0adbbcbdf0d0.jpg\n",
            "9ef3feee-ab52-411c-b0b8-5258f2d3c2d5.jpg\n",
            "f88699ff-33e9-49b2-bb8e-0e2e8bae95bc.jpg\n",
            "c9af12af-244d-46c3-97b7-2033e5a106a9.jpg\n",
            "a6f2fd75-da47-4c8a-8b07-548ddb914429.jpg\n",
            "52845d80-84e0-45d1-b6cd-793023d19ca3.jpg\n",
            "2f281a43-71e7-450b-b4c6-0373bb944f17.jpg\n",
            "a9039a2a-477d-407b-ae27-8dbfecf47f33.jpg\n",
            "238a5c3b-6fbe-4b82-96ca-1b90aa054e4c.jpg\n",
            "a1063c8a-6977-4f78-8618-1c2f1509b932.jpg\n",
            "f8596c2d-0171-4c32-8579-25104320686e.jpg\n",
            "25dad13a-e0ce-40d3-b5f5-4970df0bdc10.jpg\n",
            "1a200ae8-b847-4c8c-b7f6-a251c9c2abef.jpg\n",
            "18561ab7-247b-4210-b098-bf056b2d864c.jpg\n",
            "2ca09040-2cd4-4ebf-be8e-40b3a35d3cf1.jpg\n",
            "976dcf48-36a4-40b4-b55c-18434fa004f5.jpg\n",
            "6ec3509f-30f5-4e94-a5d5-9518cefea89e.jpg\n",
            "4cc5d8e4-4df1-4a45-8682-1fbae3287f2c.jpg\n",
            "2600577e-7ea6-4c11-97e4-7776e35d30bd.jpg\n",
            "3397fc21-fac0-4f3c-9de1-a32ce5213c8e.jpg\n",
            "7b568878-fbd0-4b2c-80b6-7621d17139fd.jpg\n",
            "6dad2334-86c2-4241-95e0-a3bb08a29c68.jpg\n",
            "aa42fa91-0427-44fd-8e5c-1f74c300462d.jpg\n",
            "90cf3a42-9e6f-4831-bc54-480471390d5f.jpg\n",
            "34f949d1-3beb-4bc0-92f6-d7496842c756.jpg\n",
            "034fe150-9386-4088-9728-a45ff6d3ad8b.jpg\n"
          ],
          "name": "stdout"
        }
      ]
    },
    {
      "cell_type": "code",
      "metadata": {
        "colab": {
          "base_uri": "https://localhost:8080/"
        },
        "id": "ELNeWqjqzmmY",
        "outputId": "00b14110-374c-4d95-bc8c-ca4e81c48652"
      },
      "source": [
        "len(prediction_class)"
      ],
      "id": "ELNeWqjqzmmY",
      "execution_count": null,
      "outputs": [
        {
          "output_type": "execute_result",
          "data": {
            "text/plain": [
              "547"
            ]
          },
          "metadata": {
            "tags": []
          },
          "execution_count": 45
        }
      ]
    },
    {
      "cell_type": "code",
      "metadata": {
        "colab": {
          "base_uri": "https://localhost:8080/",
          "height": 206
        },
        "id": "_E6pOWws2gfh",
        "outputId": "42ab8273-7a1d-42a4-bb7c-192751c5c930"
      },
      "source": [
        "df_sabmission = pd.DataFrame({\n",
        "    'guid': predict_foto,\n",
        "    'typology_word': prediction_class_word,\n",
        "    'typology_number': prediction_class\n",
        "})\n",
        "df_sabmission.head(5)"
      ],
      "id": "_E6pOWws2gfh",
      "execution_count": null,
      "outputs": [
        {
          "output_type": "execute_result",
          "data": {
            "text/html": [
              "<div>\n",
              "<style scoped>\n",
              "    .dataframe tbody tr th:only-of-type {\n",
              "        vertical-align: middle;\n",
              "    }\n",
              "\n",
              "    .dataframe tbody tr th {\n",
              "        vertical-align: top;\n",
              "    }\n",
              "\n",
              "    .dataframe thead th {\n",
              "        text-align: right;\n",
              "    }\n",
              "</style>\n",
              "<table border=\"1\" class=\"dataframe\">\n",
              "  <thead>\n",
              "    <tr style=\"text-align: right;\">\n",
              "      <th></th>\n",
              "      <th>guid</th>\n",
              "      <th>typology_word</th>\n",
              "      <th>typology_number</th>\n",
              "    </tr>\n",
              "  </thead>\n",
              "  <tbody>\n",
              "    <tr>\n",
              "      <th>0</th>\n",
              "      <td>50ddae34-6934-4d29-9049-c6d3a516ef75</td>\n",
              "      <td>предметы археологии</td>\n",
              "      <td>4</td>\n",
              "    </tr>\n",
              "    <tr>\n",
              "      <th>1</th>\n",
              "      <td>c2ad70f9-64b3-4dea-b9b8-c865ddab64f1</td>\n",
              "      <td>графика</td>\n",
              "      <td>0</td>\n",
              "    </tr>\n",
              "    <tr>\n",
              "      <th>2</th>\n",
              "      <td>5c0a343d-7924-4c1f-8d44-26b4c4d3fb85</td>\n",
              "      <td>предметы минералогической коллекции</td>\n",
              "      <td>6</td>\n",
              "    </tr>\n",
              "    <tr>\n",
              "      <th>3</th>\n",
              "      <td>79af89d6-602e-409f-a50b-4d14ff8ba858</td>\n",
              "      <td>графика</td>\n",
              "      <td>0</td>\n",
              "    </tr>\n",
              "    <tr>\n",
              "      <th>4</th>\n",
              "      <td>41ace5e0-031e-4bcc-a66f-01a77ee0eeea</td>\n",
              "      <td>прочие</td>\n",
              "      <td>11</td>\n",
              "    </tr>\n",
              "  </tbody>\n",
              "</table>\n",
              "</div>"
            ],
            "text/plain": [
              "                                   guid  ... typology_number\n",
              "0  50ddae34-6934-4d29-9049-c6d3a516ef75  ...               4\n",
              "1  c2ad70f9-64b3-4dea-b9b8-c865ddab64f1  ...               0\n",
              "2  5c0a343d-7924-4c1f-8d44-26b4c4d3fb85  ...               6\n",
              "3  79af89d6-602e-409f-a50b-4d14ff8ba858  ...               0\n",
              "4  41ace5e0-031e-4bcc-a66f-01a77ee0eeea  ...              11\n",
              "\n",
              "[5 rows x 3 columns]"
            ]
          },
          "metadata": {
            "tags": []
          },
          "execution_count": 47
        }
      ]
    },
    {
      "cell_type": "code",
      "metadata": {
        "id": "9rUBKV9i8MFy"
      },
      "source": [
        "df_sabmission.to_csv('./predict_foto_Xception.csv')"
      ],
      "id": "9rUBKV9i8MFy",
      "execution_count": null,
      "outputs": []
    }
  ]
}